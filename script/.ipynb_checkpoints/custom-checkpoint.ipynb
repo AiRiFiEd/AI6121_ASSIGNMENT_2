{
 "cells": [
  {
   "cell_type": "code",
   "execution_count": 6,
   "id": "cf5cc950",
   "metadata": {},
   "outputs": [],
   "source": [
    "import os\n",
    "import sys\n",
    "LIB_PATH = os.path.dirname(os.getcwd())\n",
    "sys.path.append(LIB_PATH)\n",
    "\n",
    "from src import data"
   ]
  },
  {
   "cell_type": "code",
   "execution_count": 7,
   "id": "9065b97c",
   "metadata": {},
   "outputs": [],
   "source": [
    "DIRECTORY_DATA = os.path.join(LIB_PATH, 'data')\n",
    "DIRECTORY_OUTPUT = os.path.join(LIB_PATH, 'output')"
   ]
  },
  {
   "cell_type": "code",
   "execution_count": 11,
   "id": "f55b63df",
   "metadata": {},
   "outputs": [],
   "source": [
    "image_pairs = data.ImagePairs(DIRECTORY_DATA)\n",
    "image_pairs.load_images()\n",
    "image_pairs.detect_features_and_annotate()\n",
    "image_pairs.show_annotations()"
   ]
  },
  {
   "cell_type": "code",
   "execution_count": null,
   "id": "1545ac60",
   "metadata": {},
   "outputs": [],
   "source": []
  }
 ],
 "metadata": {
  "kernelspec": {
   "display_name": "Python 3 (ipykernel)",
   "language": "python",
   "name": "python3"
  },
  "language_info": {
   "codemirror_mode": {
    "name": "ipython",
    "version": 3
   },
   "file_extension": ".py",
   "mimetype": "text/x-python",
   "name": "python",
   "nbconvert_exporter": "python",
   "pygments_lexer": "ipython3",
   "version": "3.7.1"
  }
 },
 "nbformat": 4,
 "nbformat_minor": 5
}
